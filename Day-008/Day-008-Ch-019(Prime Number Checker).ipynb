{
 "cells": [
  {
   "cell_type": "markdown",
   "id": "0e826998",
   "metadata": {},
   "source": [
    "# Day-008-Ch-019(Prime NUmber Check\n",
    "\n",
    "# Instructions\n",
    "\n",
    "Prime numbers are numbers that can only be cleanly divided by itself and 1. \n",
    "\n",
    "[https://en.wikipedia.org/wiki/Prime_number](https://en.wikipedia.org/wiki/Prime_number)\n",
    "\n",
    "\n",
    "**You need to write a function** that checks whether if the number passed into it is a prime number or not.\n",
    "\n",
    "e.g. 2 is a prime number because it's only divisible by 1 and 2.\n",
    "\n",
    "But 4 is not a prime number because you can divide it by 1, 2 or 4.\n",
    "\n",
    " \n",
    " ![](https://cdn.fs.teachablecdn.com/s0gceS97QD6MP5RUT49H)\n",
    "\n",
    "Here are the numbers up to 100, prime numbers are highlighted in yellow:\n",
    "\n",
    "![](https://cdn.fs.teachablecdn.com/NZqVclSt2qAe8KhTsUtw)\n",
    "\n",
    "# Example Input 1\n",
    "\n",
    "```\n",
    "73\n",
    "```\n",
    "\n",
    "# Example Output 1\n",
    "\n",
    "```\n",
    "It's a prime number.\n",
    "```\n",
    "\n",
    "# Example Input 2\n",
    "\n",
    "```\n",
    "75\n",
    "```\n",
    "\n",
    "# Example Output 2\n",
    "\n",
    "```\n",
    "It's not a prime number.\n",
    "```\n",
    "\n",
    "# Hint\n",
    "\n",
    "1. Remember the modulus: \n",
    "\n",
    "[https://stackoverflow.com/questions/4432208/what-is-the-result-of-in-python](https://stackoverflow.com/questions/4432208/what-is-the-result-of-in-python)\n",
    "\n",
    "2. Make sure you name your function/parameters the same as when it's called on the last line of code. \n",
    "\n",
    "3. Use the same wording as the Example Outputs to make sure the tests pass. \n",
    "\n",
    "# Test Your Code\n",
    "\n",
    "Before checking the solution, try copy-pasting your code into this repl: \n",
    "\n",
    "[https://repl.it/@appbrewery/day-8-2-test-your-code](https://repl.it/@appbrewery/day-8-2-test-your-code)\n",
    "\n",
    "This repl includes my testing code that will check if your code meets this assignment's objectives. \n",
    "\n",
    "\n",
    "# Solution\n",
    "\n",
    "[https://repl.it/@appbrewery/day-8-2-solution](https://repl.it/@appbrewery/day-8-2-solution)\n"
   ]
  },
  {
   "cell_type": "code",
   "execution_count": 4,
   "id": "a31c54b9",
   "metadata": {},
   "outputs": [
    {
     "name": "stdout",
     "output_type": "stream",
     "text": [
      "Check this number: 45\n",
      "its not Prime Number : \n"
     ]
    }
   ],
   "source": [
    "def prime_checker(number):\n",
    "    is_prime =  True\n",
    "    for i in range(2, number):\n",
    "        if number % i ==0:\n",
    "            is_prime = False\n",
    "    if is_prime:\n",
    "        print(\"its Prime Numbr : \")\n",
    "    else:\n",
    "        print(\"its not Prime Number : \")\n",
    "            \n",
    "        \n",
    "n = int(input(\"Check this number: \"))\n",
    "prime_checker(number=n)\n",
    "\n",
    "\n",
    "\n"
   ]
  },
  {
   "cell_type": "code",
   "execution_count": null,
   "id": "f75fd9a9",
   "metadata": {},
   "outputs": [],
   "source": []
  }
 ],
 "metadata": {
  "kernelspec": {
   "display_name": "Python 3 (ipykernel)",
   "language": "python",
   "name": "python3"
  },
  "language_info": {
   "codemirror_mode": {
    "name": "ipython",
    "version": 3
   },
   "file_extension": ".py",
   "mimetype": "text/x-python",
   "name": "python",
   "nbconvert_exporter": "python",
   "pygments_lexer": "ipython3",
   "version": "3.9.7"
  }
 },
 "nbformat": 4,
 "nbformat_minor": 5
}
