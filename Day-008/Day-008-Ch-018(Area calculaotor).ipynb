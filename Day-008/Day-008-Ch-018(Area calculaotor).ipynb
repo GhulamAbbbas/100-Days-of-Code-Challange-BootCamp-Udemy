{
 "cells": [
  {
   "cell_type": "markdown",
   "id": "bc88bd0a",
   "metadata": {},
   "source": [
    "# Area Calc\n",
    "\n",
    "\n",
    "# Instructions\n",
    "\n",
    "You are painting a wall. The instructions on the paint can says that **1 can of paint can cover 5 square meters** of wall. Given a random height and width of wall, calculate how many cans of paint you'll need to buy.\n",
    "\n",
    "number of cans = (wall height ✖️ wall width) ÷ coverage per can. \n",
    "\n",
    "e.g. Height = 2, Width = 4, Coverage = 5\n",
    "\n",
    "number of cans = (2 ✖️ 4) ÷ 5 \n",
    "\n",
    "                         = 1.6\n",
    "\n",
    "But because you can't buy 0.6 of a can of paint, the **result should be rounded up** to **2** cans. \n",
    "\n",
    "IMPORTANT: Notice the name of the function and parameters must match those on line 13 for the code to work.\n",
    "\n",
    "# Example Input\n",
    "\n",
    "```\n",
    "test_h = 3\n",
    "```\n",
    "\n",
    "```\n",
    "test_w = 9\n",
    "```\n",
    "\n",
    "# Example Output\n",
    "\n",
    "```\n",
    "You'll need 6 cans of paint.\n",
    "```\n",
    "\n",
    "   \n",
    "\n",
    "# Hint\n",
    "\n",
    "**1. To round up a number**: \n",
    "\n",
    "[https://stackoverflow.com/questions/2356501/how-do-you-round-up-a-number-in-python](https://stackoverflow.com/questions/2356501/how-do-you-round-up-a-number-in-python)\n",
    "\n",
    "2. Make sure you name your function/parameters the same as when it's called on the last line of code. \n",
    "\n",
    "# Test Your Code\n",
    "\n",
    "Before checking the solution, try copy-pasting your code into this repl: \n",
    "\n",
    "[https://repl.it/@appbrewery/day-8-1-test-your-code](https://repl.it/@appbrewery/day-8-1-test-your-code)\n",
    "\n",
    "This repl includes my testing code that will check if your code meets this assignment's objectives. \n",
    "\n",
    "# Solution\n",
    "\n",
    "[https://repl.it/@appbrewery/day-8-1-solution](https://repl.it/@appbrewery/day-8-1-solution)"
   ]
  },
  {
   "cell_type": "code",
   "execution_count": 2,
   "id": "ee67aac3",
   "metadata": {},
   "outputs": [
    {
     "name": "stdout",
     "output_type": "stream",
     "text": [
      "Height of wall: 23\n",
      "Width of wall: 34\n",
      "You will need 157 cans of paint.\n"
     ]
    }
   ],
   "source": [
    "import math\n",
    "def paint_calc(height, width , cover):\n",
    "    area = height* width\n",
    "    num_of_cans = math.ceil(area / cover)\n",
    "    print(f\"You will need {num_of_cans} cans of paint.\")\n",
    "    \n",
    "    \n",
    "    \n",
    "    \n",
    "test_h = int(input(\"Height of wall: \"))\n",
    "test_w = int(input(\"Width of wall: \"))\n",
    "coverage = 5\n",
    "paint_calc(height=test_h, width=test_w, cover=coverage)\n",
    "\n",
    "\n"
   ]
  },
  {
   "cell_type": "code",
   "execution_count": null,
   "id": "be527fe7",
   "metadata": {},
   "outputs": [],
   "source": []
  }
 ],
 "metadata": {
  "kernelspec": {
   "display_name": "Python 3 (ipykernel)",
   "language": "python",
   "name": "python3"
  },
  "language_info": {
   "codemirror_mode": {
    "name": "ipython",
    "version": 3
   },
   "file_extension": ".py",
   "mimetype": "text/x-python",
   "name": "python",
   "nbconvert_exporter": "python",
   "pygments_lexer": "ipython3",
   "version": "3.9.7"
  }
 },
 "nbformat": 4,
 "nbformat_minor": 5
}
