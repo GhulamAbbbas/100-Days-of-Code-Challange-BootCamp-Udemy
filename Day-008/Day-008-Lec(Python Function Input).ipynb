{
 "cells": [
  {
   "cell_type": "markdown",
   "id": "5352465a",
   "metadata": {},
   "source": [
    "# Day-008-Lec(Python Function Input)"
   ]
  },
  {
   "cell_type": "code",
   "execution_count": 21,
   "id": "919840df",
   "metadata": {},
   "outputs": [
    {
     "name": "stdout",
     "output_type": "stream",
     "text": [
      "Hello Angela\n",
      "How do you do Abbas\n",
      "Is not the nice today\n"
     ]
    }
   ],
   "source": [
    "def  greet():\n",
    "    print(\"Hello Angela\")\n",
    "    print(\"How do you do Abbas\")\n",
    "    print(\"Is not the nice today\")\n",
    "    \n",
    "\n",
    "greet()"
   ]
  },
  {
   "cell_type": "code",
   "execution_count": 26,
   "id": "bc407ad2",
   "metadata": {},
   "outputs": [
    {
     "name": "stdout",
     "output_type": "stream",
     "text": [
      "Enter your Name Abbbas khan blouch\n",
      "Hello Abbbas khan blouch.\n",
      "How do you do Abbbas khan blouch\n",
      "Is not the nice Weather today\n"
     ]
    }
   ],
   "source": [
    "name = input(\"Enter your Name \")\n",
    "def  greet(name):\n",
    "    print(f\"Hello {name}.\")\n",
    "    print(f\"How do you do {name}\")\n",
    "    print(\"Is not the nice Weather today\")\n",
    "    \n",
    "\n",
    "greet(name)"
   ]
  },
  {
   "cell_type": "code",
   "execution_count": 11,
   "id": "55ef8ab6",
   "metadata": {},
   "outputs": [
    {
     "name": "stdout",
     "output_type": "stream",
     "text": [
      "Hello Bilal.\n",
      "How do you do Bilal\n"
     ]
    }
   ],
   "source": [
    "# name = \n",
    "def greet_with_name(name):\n",
    "    print(f\"Hello {name}.\")\n",
    "    print(f\"How do you do {name}\")\n",
    "greet_with_name(\"Bilal\")"
   ]
  },
  {
   "cell_type": "markdown",
   "id": "47189c9a",
   "metadata": {},
   "source": [
    "# Positional Vs Kewards Arguments"
   ]
  },
  {
   "cell_type": "code",
   "execution_count": 20,
   "id": "896dadd3",
   "metadata": {},
   "outputs": [
    {
     "name": "stdout",
     "output_type": "stream",
     "text": [
      "Hello Abbas\n",
      "what is it like in  Islamabad\n"
     ]
    }
   ],
   "source": [
    "# Positional Arguments\n",
    "#position of arguments is very important\n",
    "def greet_with(name , location):\n",
    "    print(f\"Hello {name}\")\n",
    "    print(f\"what is it like in  {location}\") \n",
    "greet_with( location = \"Islamabad\", name =\"Abbas\")"
   ]
  },
  {
   "cell_type": "code",
   "execution_count": 18,
   "id": "c0b4cdae",
   "metadata": {},
   "outputs": [],
   "source": [
    " def abbas( a , b, c):\n",
    "        print(f\" Abbbas\")\n",
    "        print(f\"khan\")\n",
    "        print(f\" Aloooo\")\n",
    "abbas(a= )"
   ]
  },
  {
   "cell_type": "code",
   "execution_count": null,
   "id": "1c444713",
   "metadata": {},
   "outputs": [],
   "source": []
  }
 ],
 "metadata": {
  "kernelspec": {
   "display_name": "Python 3 (ipykernel)",
   "language": "python",
   "name": "python3"
  },
  "language_info": {
   "codemirror_mode": {
    "name": "ipython",
    "version": 3
   },
   "file_extension": ".py",
   "mimetype": "text/x-python",
   "name": "python",
   "nbconvert_exporter": "python",
   "pygments_lexer": "ipython3",
   "version": "3.9.7"
  }
 },
 "nbformat": 4,
 "nbformat_minor": 5
}
