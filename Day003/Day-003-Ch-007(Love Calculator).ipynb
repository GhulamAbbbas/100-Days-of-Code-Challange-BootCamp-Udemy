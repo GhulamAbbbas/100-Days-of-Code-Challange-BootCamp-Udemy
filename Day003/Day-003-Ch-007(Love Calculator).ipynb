{
 "cells": [
  {
   "cell_type": "markdown",
   "id": "d65b6403",
   "metadata": {},
   "source": [
    "# Love Calculator\n",
    "\n",
    "💪 This is a Difficult Challenge 💪\n",
    "\n",
    "Instructions\n",
    "\n",
    "You are going to write a program that tests the compatibility between two people.\n",
    "\n",
    "To work out the love score between two people:\n",
    "\n",
    "Take both people's names and check for the number of times the letters in the word TRUE occurs. Then check for the number of times the letters in the word LOVE occurs. Then combine these numbers to make a 2 digit number.\n",
    "\n",
    "For Love Scores less than 10 or greater than 90, the message should be:\n",
    "\n",
    "\"Your score is **x**, you go together like coke and mentos.\"\n",
    "\n",
    "For Love Scores between 40 and 50, the message should be:\n",
    "\n",
    "\"Your score is **y**, you are alright together.\"\n",
    "\n",
    "Otherwise, the message will just be their score. e.g.:\n",
    "\n",
    "\"Your score is **z**.\"\n",
    "\n",
    "e.g.\n",
    "\n",
    "name1 = \"Angela Yu\"\n",
    "\n",
    "name2 = \"Jack Bauer\"\n",
    "\n",
    "T occurs 0 times\n",
    "\n",
    "R occurs 1 time\n",
    "\n",
    "U occurs 2 times\n",
    "\n",
    "E occurs 2 times\n",
    "\n",
    "Total = 5\n",
    "\n",
    "L occurs 1 time\n",
    "\n",
    "O occurs 0 times\n",
    "\n",
    "V occurs 0 times\n",
    "\n",
    "E occurs 2 times\n",
    "\n",
    "Total = 3\n",
    "\n",
    "Love Score = 53\n",
    "\n",
    "Print: \"Your score is 53.\""
   ]
  },
  {
   "cell_type": "code",
   "execution_count": 13,
   "id": "878b28c1",
   "metadata": {},
   "outputs": [
    {
     "name": "stdout",
     "output_type": "stream",
     "text": [
      "Welcome to the Love Calculator!\n",
      "What is your name? \n",
      "Simran\n",
      "What is their name? \n",
      "bilal\n",
      "Your love Score is 12\n"
     ]
    }
   ],
   "source": [
    "print(\"Welcome to the Love Calculator!\")\n",
    "name1 = input(\"What is your name? \\n\")\n",
    "name2 = input(\"What is their name? \\n\")\n",
    "\n",
    "combined_string= name1 + name2\n",
    "lower_case_string = combined_string.lower()\n",
    "t=lower_case_string.count(\"t\")\n",
    "r=lower_case_string.count(\"r\")\n",
    "u=lower_case_string.count(\"u\")\n",
    "e=lower_case_string.count(\"e\")\n",
    "true = t+r+u+e\n",
    "l=lower_case_string.count(\"l\")\n",
    "o=lower_case_string.count(\"o\")\n",
    "v=lower_case_string.count(\"v\")\n",
    "e=lower_case_string.count(\"e\")\n",
    "love =l+ o+ v  +e\n",
    "love_score = int(str(true) + str(love))\n",
    "\n",
    "\n",
    "#print(love_score)\n",
    "if (love_score<10) or (love_score >90):\n",
    "    print(f\"Your love Score is {love_score},you go together loke coke and mentos.\")\n",
    "elif (love_score>= 40) and (love_score<=50):\n",
    "    print(f\"Your love Score is {love_score},you are alright together.\")\n",
    "else:\n",
    "        print(f\"Your love Score is {love_score}\")\n",
    "\n",
    "    \n"
   ]
  },
  {
   "cell_type": "code",
   "execution_count": null,
   "id": "5b428174",
   "metadata": {},
   "outputs": [],
   "source": []
  }
 ],
 "metadata": {
  "kernelspec": {
   "display_name": "Python 3 (ipykernel)",
   "language": "python",
   "name": "python3"
  },
  "language_info": {
   "codemirror_mode": {
    "name": "ipython",
    "version": 3
   },
   "file_extension": ".py",
   "mimetype": "text/x-python",
   "name": "python",
   "nbconvert_exporter": "python",
   "pygments_lexer": "ipython3",
   "version": "3.9.7"
  }
 },
 "nbformat": 4,
 "nbformat_minor": 5
}
