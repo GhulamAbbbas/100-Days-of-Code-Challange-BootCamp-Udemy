{
 "cells": [
  {
   "cell_type": "markdown",
   "id": "bc1cdc6b",
   "metadata": {},
   "source": [
    "# Odd or Even (100days of Code Challange)\n",
    "Write a program that works out whether if a given number is an odd or even number.\n",
    "\n",
    "Even numbers can be divided by 2 with no remainder.\n",
    "\n",
    "e.g. 86 is even because 86 ÷ 2 = 43\n",
    "\n",
    "43 does not have any decimal places. Therefore the division is clean.\n",
    "\n",
    "e.g. 59 is odd because 59 ÷ 2 = 29.5\n",
    "\n",
    "29.5 is not a whole number, it has decimal places. Therefore there is a remainder of 0.5, so the division is not clean.\n",
    "\n",
    "The modulo is written as a percentage sign (%) in Python. It gives you the remainder after a division."
   ]
  },
  {
   "cell_type": "code",
   "execution_count": 3,
   "id": "173b10ff",
   "metadata": {},
   "outputs": [
    {
     "data": {
      "text/plain": [
       "1"
      ]
     },
     "execution_count": 3,
     "metadata": {},
     "output_type": "execute_result"
    }
   ],
   "source": [
    "#Module operation\n",
    "#  7%2= 1  remainder "
   ]
  },
  {
   "cell_type": "code",
   "execution_count": 9,
   "id": "60412d38",
   "metadata": {},
   "outputs": [
    {
     "name": "stdout",
     "output_type": "stream",
     "text": [
      " Which Numbmer do you want to check? 5\n",
      "This is Odd Number\n"
     ]
    }
   ],
   "source": [
    "num = int(input(\" Which Numbmer do you want to check? \"))\n",
    "if num %2 ==0:\n",
    "    print(\" This is an Even Number.\")\n",
    "else:\n",
    "    print(\"This is Odd Number.\")"
   ]
  }
 ],
 "metadata": {
  "kernelspec": {
   "display_name": "Python 3 (ipykernel)",
   "language": "python",
   "name": "python3"
  },
  "language_info": {
   "codemirror_mode": {
    "name": "ipython",
    "version": 3
   },
   "file_extension": ".py",
   "mimetype": "text/x-python",
   "name": "python",
   "nbconvert_exporter": "python",
   "pygments_lexer": "ipython3",
   "version": "3.9.7"
  }
 },
 "nbformat": 4,
 "nbformat_minor": 5
}
