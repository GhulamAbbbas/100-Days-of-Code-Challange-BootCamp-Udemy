{
 "cells": [
  {
   "cell_type": "markdown",
   "id": "516a32de",
   "metadata": {},
   "source": [
    "# Day003CH(BMI Calculater Updated) 100 Day of Code Challange\n",
    "## Instruction  \n",
    "Write a program that interprets the Body Mass Index (BMI) based on a user's weight and height.\n",
    "\n",
    "It should tell them the interpretation of their BMI based on the BMI value.\n",
    "\n",
    "Under 18.5 they are underweight\n",
    "\n",
    "Over 18.5 but below 25 they have a normal weight\n",
    "\n",
    "Over 25 but below 30 they are slightly overweight\n",
    "\n",
    "Over 30 but below 35 they are obese\n",
    "\n",
    "Above 35 they are clinically obese."
   ]
  },
  {
   "cell_type": "code",
   "execution_count": 4,
   "id": "5f221b96",
   "metadata": {},
   "outputs": [
    {
     "name": "stdout",
     "output_type": "stream",
     "text": [
      "Enter your Height in m: 1.63\n",
      "Enter your Weight in kg: 80\n",
      " Your BMI is 30,Your are Obese\n"
     ]
    }
   ],
   "source": [
    "height= float(input(\"Enter your Height in m: \"))\n",
    "weight= float(input(\"Enter your Weight in kg: \"))\n",
    "BMI= round(weight//height**2)\n",
    "if BMI<18.5:\n",
    "    print(f\" Your BMI is {BMI},Your are under Weight\")\n",
    "elif BMI <25:\n",
    "    print(f\" Your BMI is {BMI},Your are Normal Weight\")\n",
    "elif BMI <30:\n",
    "    print(f\" Your BMI is {BMI},Your are over Weight\")\n",
    "elif BMI <35:\n",
    "    print(f\" Your BMI is {BMI},Your are Obese\")\n"
   ]
  },
  {
   "cell_type": "code",
   "execution_count": null,
   "id": "21e09ad7",
   "metadata": {},
   "outputs": [],
   "source": []
  }
 ],
 "metadata": {
  "kernelspec": {
   "display_name": "Python 3 (ipykernel)",
   "language": "python",
   "name": "python3"
  },
  "language_info": {
   "codemirror_mode": {
    "name": "ipython",
    "version": 3
   },
   "file_extension": ".py",
   "mimetype": "text/x-python",
   "name": "python",
   "nbconvert_exporter": "python",
   "pygments_lexer": "ipython3",
   "version": "3.9.7"
  }
 },
 "nbformat": 4,
 "nbformat_minor": 5
}
