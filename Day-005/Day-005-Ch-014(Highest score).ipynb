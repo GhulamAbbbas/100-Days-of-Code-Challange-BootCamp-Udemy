{
 "cells": [
  {
   "cell_type": "markdown",
   "id": "44ca0779",
   "metadata": {},
   "source": [
    "# Highest Score\n",
    "\n",
    "Instructions\n",
    "\n",
    "You are going to write a program that calculates the highest score from a List of scores.\n",
    "\n",
    "e.g. student_scores = [78, 65, 89, 86, 55, 91, 64, 89]\n",
    "\n",
    "Important you are not allowed to use the max or min functions. The output words must match the example. i.e\n",
    "\n",
    "The highest score in the class is: x\n",
    "\n",
    "Example Input\n",
    "\n",
    "78 65 89 86 55 91 64 89\n",
    "\n",
    "In this case, student_scores would be a list that looks like: [78, 65, 89, 86, 55, 91, 64, 89]\n",
    "\n",
    "Example Output\n",
    "\n",
    "\n",
    "The highest score in the class is: 91\n",
    "\n",
    "e.g. When you hit run, this is what should happen:\n",
    "\n",
    "\n",
    "\n",
    "Hint\n",
    "\n",
    "Think about the logic before writing code. How can you compare numbers against each other to see which one is larger?"
   ]
  },
  {
   "cell_type": "code",
   "execution_count": 3,
   "id": "518ee58e",
   "metadata": {},
   "outputs": [
    {
     "name": "stdout",
     "output_type": "stream",
     "text": [
      "Input a list of student scores 12 1213 124\n",
      "[12, 1213, 124]\n",
      "The highest score in the class is: 1213\n"
     ]
    }
   ],
   "source": [
    "student_scores = input(\"Input a list of student scores \").split()\n",
    "for n in range(0, len(student_scores)):\n",
    "  student_scores[n] = int(student_scores[n])\n",
    "print(student_scores)\n",
    "highest_score =0 \n",
    "for score in student_scores:\n",
    "    if score > highest_score:\n",
    "        highest_score = score\n",
    "        \n",
    "print(f\"The highest score in the class is: {highest_score}\")"
   ]
  }
 ],
 "metadata": {
  "kernelspec": {
   "display_name": "Python 3 (ipykernel)",
   "language": "python",
   "name": "python3"
  },
  "language_info": {
   "codemirror_mode": {
    "name": "ipython",
    "version": 3
   },
   "file_extension": ".py",
   "mimetype": "text/x-python",
   "name": "python",
   "nbconvert_exporter": "python",
   "pygments_lexer": "ipython3",
   "version": "3.9.7"
  }
 },
 "nbformat": 4,
 "nbformat_minor": 5
}
