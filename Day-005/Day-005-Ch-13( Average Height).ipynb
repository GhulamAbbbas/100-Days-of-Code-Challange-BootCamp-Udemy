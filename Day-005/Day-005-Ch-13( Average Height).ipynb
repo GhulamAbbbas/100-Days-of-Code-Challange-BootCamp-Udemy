{
 "cells": [
  {
   "cell_type": "markdown",
   "id": "43dae52e",
   "metadata": {},
   "source": [
    "\n",
    "# Day-005-Ch-13( Average Height)"
   ]
  },
  {
   "cell_type": "markdown",
   "id": "9e67ab23",
   "metadata": {},
   "source": [
    "# Average Height\n",
    "\n",
    "Instruction\n",
    "\n",
    "You are going to write a program that calculates the average student height from a List of heights.\n",
    "\n",
    "e.g. student_heights = [180, 124, 165, 173, 189, 169, 146]\n",
    "\n",
    "The average height can be calculated by adding all the heights together and dividing by the total number of heights.\n",
    "\n",
    "e.g.\n",
    "\n",
    "180 + 124 + 165 + 173 + 189 + 169 + 146 = 1146\n",
    "\n",
    "There are a total of 7 heights in student_heights\n",
    "\n",
    "1146 ÷ 7 = 163.71428571428572\n",
    "\n",
    "Average height rounded to the nearest whole number = 164\n",
    "\n",
    "Important You should not use the sum() or len() functions in your answer. You should try to replicate their functionality using what you have learnt about for loops.\n",
    "\n",
    "Example Input\n",
    "\n",
    "156 178 165 171 187\n",
    "\n",
    "In this case, student_heights would be a list that looks like: [156, 178, 165, 171, 187]\n",
    "\n",
    "Example Output\n",
    "\n",
    "171\n",
    "\n",
    "e.g. When you hit run, this is what should happen:\n",
    "\n",
    "\n",
    "\n",
    "Hint\n",
    "\n",
    "Remember to use the round() function to round the average height before you print it.\n",
    "\n"
   ]
  },
  {
   "cell_type": "code",
   "execution_count": 16,
   "id": "a1fd733c",
   "metadata": {},
   "outputs": [
    {
     "name": "stdout",
     "output_type": "stream",
     "text": [
      "Input a list of student heights 11 21 121 21 2   2 1 22\n",
      "[11, 21, 121, 21, 2, 2, 1, 22]\n",
      "201\n",
      "8\n",
      "25\n"
     ]
    }
   ],
   "source": [
    "student_heights = input(\"Input a list of student heights \").split()\n",
    "for n in range(0, len(student_heights)):\n",
    "  student_heights[n] = int(student_heights[n])\n",
    "print(student_heights)\n",
    "total_height = 0\n",
    "for height in student_heights:\n",
    "    total_height+= height\n",
    "print(total_height)\n",
    "\n",
    "number_of_students = 0 \n",
    "for student in student_heights:\n",
    "    number_of_students +=1\n",
    "print(number_of_students)\n",
    "\n",
    "average_height = round(total_height/number_of_students)\n",
    "print(average_height)"
   ]
  },
  {
   "cell_type": "code",
   "execution_count": null,
   "id": "931467c8",
   "metadata": {},
   "outputs": [],
   "source": []
  },
  {
   "cell_type": "code",
   "execution_count": null,
   "id": "a4464ee0",
   "metadata": {},
   "outputs": [],
   "source": []
  }
 ],
 "metadata": {
  "kernelspec": {
   "display_name": "Python 3 (ipykernel)",
   "language": "python",
   "name": "python3"
  },
  "language_info": {
   "codemirror_mode": {
    "name": "ipython",
    "version": 3
   },
   "file_extension": ".py",
   "mimetype": "text/x-python",
   "name": "python",
   "nbconvert_exporter": "python",
   "pygments_lexer": "ipython3",
   "version": "3.9.7"
  }
 },
 "nbformat": 4,
 "nbformat_minor": 5
}
