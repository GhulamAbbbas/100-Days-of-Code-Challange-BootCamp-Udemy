{
 "cells": [
  {
   "cell_type": "markdown",
   "id": "40e4f3d1",
   "metadata": {},
   "source": [
    "# Randomness Lists and \n",
    "Random Numbers \n",
    "\n",
    "Psuedo random generots ... @ khan acaemy\n",
    "\n",
    "Google Random and Google algorithm\n",
    "\n",
    "Important Links\n",
    "\n",
    "https://www.askpython.com/python-modules/python-random-module-generate-random-numbers-sequences\n",
    "\n",
    "Diiferent Module\n",
    "result is final product"
   ]
  },
  {
   "cell_type": "code",
   "execution_count": 3,
   "id": "5a918210",
   "metadata": {},
   "outputs": [
    {
     "name": "stdout",
     "output_type": "stream",
     "text": [
      "5\n"
     ]
    }
   ],
   "source": [
    "import random\n",
    "\n",
    "random_integer = random.randint(1,10)\n",
    "print(random_integer)"
   ]
  },
  {
   "cell_type": "code",
   "execution_count": null,
   "id": "35e9caf0",
   "metadata": {},
   "outputs": [],
   "source": []
  },
  {
   "cell_type": "code",
   "execution_count": 6,
   "id": "cf8dc748",
   "metadata": {},
   "outputs": [
    {
     "name": "stdout",
     "output_type": "stream",
     "text": [
      "0.16678981412789007\n"
     ]
    }
   ],
   "source": [
    "# b/w 0 and 1\n",
    "# 0.000000000000 - 0.9999999999.......  repeating\n",
    "rndom_float = random.random()\n",
    "print(rndom_float)"
   ]
  },
  {
   "cell_type": "code",
   "execution_count": 7,
   "id": "25385cf7",
   "metadata": {},
   "outputs": [
    {
     "data": {
      "text/plain": [
       "0.8339490706394503"
      ]
     },
     "execution_count": 7,
     "metadata": {},
     "output_type": "execute_result"
    }
   ],
   "source": [
    "rndom_float*5  # o.00000 ------ 4.9999999999.................NOT 5"
   ]
  },
  {
   "cell_type": "code",
   "execution_count": 10,
   "id": "4772a0db",
   "metadata": {},
   "outputs": [
    {
     "name": "stdout",
     "output_type": "stream",
     "text": [
      " Your Love score is 68\n"
     ]
    }
   ],
   "source": [
    "love_score = random.randint(1,100)\n",
    "print(f\" Your Love score is {love_score}\")"
   ]
  },
  {
   "cell_type": "markdown",
   "id": "320d4a30",
   "metadata": {},
   "source": [
    "# Uses of Random generator\n",
    "\n",
    "Dice\n",
    "\n",
    "Flip Coin\n",
    "\n",
    "Games\n",
    "\n",
    "etc.......\n"
   ]
  },
  {
   "cell_type": "markdown",
   "id": "4c64f290",
   "metadata": {},
   "source": [
    "# Python Lists\n",
    "\n",
    "storing and arranging data\n",
    "\n",
    "data connection with each other\n",
    "\n",
    "order in your data\n",
    "\n",
    "set of square data types\n",
    "\n",
    "items in data\n",
    "\n",
    "[ ]\n",
    "\n",
    "https://docs.python.org/3/tutorial/introduction.html#lists\n"
   ]
  },
  {
   "cell_type": "code",
   "execution_count": 7,
   "id": "0548631e",
   "metadata": {},
   "outputs": [
    {
     "name": "stdout",
     "output_type": "stream",
     "text": [
      "['Punjab', 'Sarghodha', 'Mailsi']\n"
     ]
    }
   ],
   "source": [
    "state= [\"Punjab\", \"vehari\", \"Mailsi\"]\n",
    "# print(state[:3])\n",
    "#state[1]= \"Sarghodha\"\n",
    "#print(state)"
   ]
  },
  {
   "cell_type": "code",
   "execution_count": 15,
   "id": "3d2a0b6f",
   "metadata": {},
   "outputs": [
    {
     "name": "stdout",
     "output_type": "stream",
     "text": [
      "['Punjab', 'Sarghodha', 'Mailsi', 'INDIA', 'INDIA', 'INDIA', 'INDIA', 'INDIA', 'INDIA', 'INDIA', 'INDIA']\n"
     ]
    }
   ],
   "source": [
    "state.append(\"INDIA\")\n",
    "print(state)"
   ]
  },
  {
   "cell_type": "markdown",
   "id": "b295697b",
   "metadata": {},
   "source": [
    "# Index Error \n"
   ]
  },
  {
   "cell_type": "code",
   "execution_count": null,
   "id": "5d241ae8",
   "metadata": {},
   "outputs": [],
   "source": []
  }
 ],
 "metadata": {
  "kernelspec": {
   "display_name": "Python 3 (ipykernel)",
   "language": "python",
   "name": "python3"
  },
  "language_info": {
   "codemirror_mode": {
    "name": "ipython",
    "version": 3
   },
   "file_extension": ".py",
   "mimetype": "text/x-python",
   "name": "python",
   "nbconvert_exporter": "python",
   "pygments_lexer": "ipython3",
   "version": "3.9.7"
  }
 },
 "nbformat": 4,
 "nbformat_minor": 5
}
