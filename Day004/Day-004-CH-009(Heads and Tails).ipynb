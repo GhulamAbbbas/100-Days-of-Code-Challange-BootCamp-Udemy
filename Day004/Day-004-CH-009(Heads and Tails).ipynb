{
 "cells": [
  {
   "cell_type": "markdown",
   "id": "b0756c28",
   "metadata": {},
   "source": [
    "# Heads or Tails\n",
    "Instructions\n",
    "You are going to write a virtual coin toss program. It will randomly tell the user \"Heads\" or \"Tails\".\n",
    "\n",
    "Important, the first letter should be capitalised and spelt exactly like in the example e.g. Heads, not heads.\n",
    "\n",
    "There are many ways of doing this. But to practice what we learnt in the last lesson, you should generate a random number, either 0 or 1. Then use that number to print out Heads or Tails.\n",
    "\n",
    "e.g. 1 means Heads 0 means Tails\n",
    "\n",
    "Example Output\n",
    "\n",
    "Heads\n",
    "\n",
    "or\n",
    "\n",
    "Tails"
   ]
  },
  {
   "cell_type": "code",
   "execution_count": 1,
   "id": "87d03866",
   "metadata": {},
   "outputs": [
    {
     "name": "stdout",
     "output_type": "stream",
     "text": [
      "Tails\n"
     ]
    }
   ],
   "source": [
    "import random\n",
    "random_side= random.randint(0, 1)\n",
    "if random_side ==1:\n",
    "    print(\"Head\")\n",
    "else:\n",
    "    print(\"Tails\")"
   ]
  },
  {
   "cell_type": "code",
   "execution_count": null,
   "id": "e644e5d4",
   "metadata": {},
   "outputs": [],
   "source": []
  }
 ],
 "metadata": {
  "kernelspec": {
   "display_name": "Python 3 (ipykernel)",
   "language": "python",
   "name": "python3"
  },
  "language_info": {
   "codemirror_mode": {
    "name": "ipython",
    "version": 3
   },
   "file_extension": ".py",
   "mimetype": "text/x-python",
   "name": "python",
   "nbconvert_exporter": "python",
   "pygments_lexer": "ipython3",
   "version": "3.9.7"
  }
 },
 "nbformat": 4,
 "nbformat_minor": 5
}
