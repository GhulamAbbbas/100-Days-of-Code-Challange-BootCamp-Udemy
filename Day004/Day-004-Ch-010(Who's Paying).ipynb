{
 "cells": [
  {
   "cell_type": "markdown",
   "id": "236d558b",
   "metadata": {},
   "source": [
    "# Who's Paying\n",
    "Instructions\n",
    "\n",
    "You are going to write a program which will select a random name from a list of names. The person selected will have to pay for everybody's food bill.\n",
    "\n",
    "Important: You are not allowed to use the choice() function.\n",
    "\n",
    "Line 8 splits the string names_string into individual names and puts them inside a List called names. For this to work, you must enter all the names as name followed by comma then space. e.g. name, name, name\n",
    "\n",
    "Example Input\n",
    "\n",
    "Angela, Ben, Jenny, Michael, Chloe\n",
    "Note: notice that there is a space between the comma and the next name.\n",
    "\n",
    "Example Output\n",
    "\n",
    "Michael is going to buy the meal today!\n",
    "\n",
    "Hint\n",
    "\n",
    "You might need the help of the len() function.\n",
    "\n",
    "https://stackoverflow.com/questions/1712227/how-do-i-get-the-number-of-elements-in-a-list\n",
    "\n",
    "Remember that Lists start at index 0!"
   ]
  },
  {
   "cell_type": "code",
   "execution_count": 15,
   "id": "d5970085",
   "metadata": {},
   "outputs": [
    {
     "name": "stdout",
     "output_type": "stream",
     "text": [
      "Give me everybody's names, separated by a comma. Alia , javeria , Abbas\n",
      "javeria  is going to buy the meal today\n"
     ]
    }
   ],
   "source": [
    "import random\n",
    "names_string = input(\"Give me everybody's names, separated by a comma. \")\n",
    "names = names_string.split(\", \")\n",
    "lenght = len(names)\n",
    "# #lenth1= int(lenght)\n",
    "# # print(names[0])\n",
    "randomChoice1= random.randint(0, lenght- 1)\n",
    "person_Paying = names[randomChoice1]\n",
    "\n",
    "print(person_Paying +\" is going to buy the meal today\")\n",
    "\n",
    "\n"
   ]
  },
  {
   "cell_type": "code",
   "execution_count": null,
   "id": "e045eee2",
   "metadata": {},
   "outputs": [],
   "source": []
  }
 ],
 "metadata": {
  "kernelspec": {
   "display_name": "Python 3 (ipykernel)",
   "language": "python",
   "name": "python3"
  },
  "language_info": {
   "codemirror_mode": {
    "name": "ipython",
    "version": 3
   },
   "file_extension": ".py",
   "mimetype": "text/x-python",
   "name": "python",
   "nbconvert_exporter": "python",
   "pygments_lexer": "ipython3",
   "version": "3.9.7"
  }
 },
 "nbformat": 4,
 "nbformat_minor": 5
}
