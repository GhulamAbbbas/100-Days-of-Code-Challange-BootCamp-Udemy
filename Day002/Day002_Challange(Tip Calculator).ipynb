{
 "cells": [
  {
   "cell_type": "markdown",
   "id": "9bf28cd3",
   "metadata": {},
   "source": [
    "# Tip Calculator\n",
    "Instructions\n",
    "If the bill was $150.00, split between 5 people, with 12% tip.\n",
    "\n",
    "Each person should pay (150.00 / 5) * 1.12 = 33.6\n",
    "\n",
    "Format the result to 2 decimal places = 33.60\n",
    "\n",
    "Thus everyone's share of the total bill is $30.00 plus a $3.60 tip.\n",
    "\n",
    "Tip: There are 2 ways to round a number. You might have to do some Googling to solve this.💪"
   ]
  },
  {
   "cell_type": "markdown",
   "id": "9309cc86",
   "metadata": {},
   "source": [
    "# Exmple Account\n",
    "\n",
    "Welcome to the tip calculator!\n",
    "\n",
    "What was the total bill? $124.56\n",
    "\n",
    "How much tip would you like to give? 10, 12, or 15? 12\n",
    "\n",
    "How many people to split the bill? 7"
   ]
  },
  {
   "cell_type": "code",
   "execution_count": 8,
   "id": "381c9d29",
   "metadata": {},
   "outputs": [
    {
     "name": "stdout",
     "output_type": "stream",
     "text": [
      "Welcome to Ghulam Abbas Tip Calculator\n",
      " what was the total Bill $40000\n",
      "How Much tip would you like to give? 10 , 12 , 1510\n",
      "How many people to split the spill?5\n",
      "Each Person Should pay: $8800.00\n"
     ]
    }
   ],
   "source": [
    "print(\"Welcome to Ghulam Abbas Tip Calculator\")\n",
    "\n",
    "bill = float(input(\" what was the total Bill $\"))\n",
    "tip  = int(input(\"How Much tip would you like to give? 10 , 12 , 15\"))\n",
    "people =int(input(\"How many people to split the spill?\"))\n",
    "\n",
    "# bill_with_tip = bill *(1+tip/100)\n",
    "# print(bill_with_tip)   \n",
    "#Alternatie Method \n",
    "tip_as_percent = tip/100\n",
    "total_tip_amount = bill*tip_as_percent\n",
    "total_bill =bill+total_tip_amount\n",
    "bill_per_Person = total_bill/people\n",
    "final_amount= round(total_bill/people, 2)\n",
    "final_amount=\"{:.2f}\" .format(bill_per_Person)\n",
    "print(f\"Each Person Should pay: ${final_amount}\")"
   ]
  },
  {
   "cell_type": "code",
   "execution_count": null,
   "id": "85819af6",
   "metadata": {},
   "outputs": [],
   "source": []
  }
 ],
 "metadata": {
  "kernelspec": {
   "display_name": "Python 3 (ipykernel)",
   "language": "python",
   "name": "python3"
  },
  "language_info": {
   "codemirror_mode": {
    "name": "ipython",
    "version": 3
   },
   "file_extension": ".py",
   "mimetype": "text/x-python",
   "name": "python",
   "nbconvert_exporter": "python",
   "pygments_lexer": "ipython3",
   "version": "3.9.7"
  }
 },
 "nbformat": 4,
 "nbformat_minor": 5
}
