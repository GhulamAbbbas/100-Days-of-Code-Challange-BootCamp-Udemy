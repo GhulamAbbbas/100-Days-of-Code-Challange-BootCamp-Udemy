{
 "cells": [
  {
   "cell_type": "markdown",
   "id": "9154a6b3",
   "metadata": {},
   "source": [
    "# BMI Calculator\n",
    "# Instructions\n",
    "\n",
    "Write a program that calculates the Body Mass Index (BMI) from a user's weight and height.\n",
    "\n",
    "The BMI is a measure of some's weight taking into account their height. e.g. If a tall person and a short person both weigh the same amount, the short person is usually more overweight.\n",
    "\n",
    "The BMI is calculated by dividing a person's weight (in kg) by the square of their height (in m):"
   ]
  },
  {
   "cell_type": "code",
   "execution_count": 1,
   "id": "83cab3ad",
   "metadata": {},
   "outputs": [
    {
     "name": "stdout",
     "output_type": "stream",
     "text": [
      "enter your height in m: 1.62\n",
      "enter your weight in kg: 80\n",
      "30\n"
     ]
    }
   ],
   "source": [
    "#My code\n",
    "height = input(\"enter your height in m: \")\n",
    "weight = input(\"enter your weight in kg: \")\n",
    "new_height= float(height)\n",
    "new_weight= int(weight)\n",
    "BMI= new_weight//new_height**2 \n",
    "print(int(BMI))"
   ]
  },
  {
   "cell_type": "code",
   "execution_count": null,
   "id": "b24d82de",
   "metadata": {},
   "outputs": [],
   "source": []
  }
 ],
 "metadata": {
  "kernelspec": {
   "display_name": "Python 3 (ipykernel)",
   "language": "python",
   "name": "python3"
  },
  "language_info": {
   "codemirror_mode": {
    "name": "ipython",
    "version": 3
   },
   "file_extension": ".py",
   "mimetype": "text/x-python",
   "name": "python",
   "nbconvert_exporter": "python",
   "pygments_lexer": "ipython3",
   "version": "3.9.7"
  }
 },
 "nbformat": 4,
 "nbformat_minor": 5
}
